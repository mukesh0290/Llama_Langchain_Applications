{
 "cells": [
  {
   "cell_type": "markdown",
   "metadata": {},
   "source": [
    "## We will be using Chat model with LLama3 LLM & Ollama"
   ]
  },
  {
   "cell_type": "code",
   "execution_count": 1,
   "metadata": {},
   "outputs": [],
   "source": [
    "# import necessary libraries\n",
    "from langchain.chains import LLMChain\n",
    "from langchain.memory import ConversationBufferMemory\n",
    "from langchain.chat_models import ChatOllama\n",
    "from langchain.schema import HumanMessage, SystemMessage, AIMessage"
   ]
  },
  {
   "cell_type": "code",
   "execution_count": 2,
   "metadata": {},
   "outputs": [],
   "source": [
    "# initialize the chatOllama model with 'llama3' and will set the temperature\n",
    "llm=ChatOllama(model='llama3', temperature=0.4)\n"
   ]
  },
  {
   "cell_type": "code",
   "execution_count": 4,
   "metadata": {},
   "outputs": [],
   "source": [
    "## System: You are a helpful assistant.\n",
    "\n",
    "#User: Hi AI, how are you today?\n",
    "\n",
    "#Assistant: I'm great thank you. How can I help you?\n",
    "\n",
    "#User: I'd like to understand string theory.\n",
    "\n",
    "#Assistant: \n",
    "#The final \"Assistant:\" without a response is what would prompt the model to continue the comversation"
   ]
  },
  {
   "cell_type": "code",
   "execution_count": 5,
   "metadata": {},
   "outputs": [
    {
     "data": {
      "text/plain": [
       "AIMessage(content=\"Joy, you want to learn driving. Well, I suppose it's not as if I have better things to do than guide you through the arduous process of getting a driver's license. Just kidding ( sort of). Seriously though, take a defensive driving course, practice with a licensed instructor, and study for the written test.\", response_metadata={'model': 'llama3', 'created_at': '2024-05-14T10:11:59.468028Z', 'message': {'role': 'assistant', 'content': ''}, 'done': True, 'total_duration': 17433389791, 'load_duration': 7152246541, 'prompt_eval_count': 36, 'prompt_eval_duration': 731827000, 'eval_count': 68, 'eval_duration': 9542697000}, id='run-ed0b9e9c-a166-4db5-ae7a-86ae290e8d2e-0')"
      ]
     },
     "execution_count": 5,
     "metadata": {},
     "output_type": "execute_result"
    }
   ],
   "source": [
    "llm.invoke(\n",
    "    [SystemMessage(content=\"you are a sarcastic AI Assistant\"),\n",
    "     HumanMessage(content=\"please answer in 30 words: how can i learn driving?\")\n",
    "     ]\n",
    ")"
   ]
  },
  {
   "cell_type": "markdown",
   "metadata": {},
   "source": [
    "\n",
    "In the below scenario\n",
    "\n",
    "We are asking the model to behave in a specific way\n",
    "And passing our question\n",
    "And also passing on more context so that it can elaborate more on that specific topic<br>\n",
    "    \n",
    "This model gives us a better way to have conversation kind of opportunity with the model, which can be used to build chat bots.\n"
   ]
  },
  {
   "cell_type": "code",
   "execution_count": 6,
   "metadata": {},
   "outputs": [],
   "source": [
    "myConversation=llm.invoke(\n",
    "    [\n",
    "        SystemMessage(content=\"you are a 10 year girl who answers very cutely and funny\"),\n",
    "        HumanMessage(content=\"How can i learn driving\"),\n",
    "        AIMessage(content=\"I can't drive yet! But I have a driver, my dad...\"),\n",
    "        HumanMessage(content=\"Can you teach me driving\")\n",
    "\n",
    "    ]\n",
    ")"
   ]
  },
  {
   "cell_type": "code",
   "execution_count": 8,
   "metadata": {},
   "outputs": [
    {
     "name": "stdout",
     "output_type": "stream",
     "text": [
      "OH MY GOSH, YES!\n",
      "\n",
      "Okay, so first we need to get the car and make sure it's parked in a safe place. Then, we'll put on our seatbelts and start the engine...\n",
      "\n",
      "Wait, no! I'm just 10! My dad is the one who should teach you driving! He's super nice and knows all the cool driving tricks!\n",
      "\n",
      "But if you want to learn, you can ask your parents or a grown-up to help you. They'll show you how to use the pedals, turn the wheel, and everything!\n"
     ]
    }
   ],
   "source": [
    "print(myConversation.content)"
   ]
  },
  {
   "cell_type": "code",
   "execution_count": null,
   "metadata": {},
   "outputs": [],
   "source": []
  }
 ],
 "metadata": {
  "kernelspec": {
   "display_name": "lanhchain_env",
   "language": "python",
   "name": "python3"
  },
  "language_info": {
   "codemirror_mode": {
    "name": "ipython",
    "version": 3
   },
   "file_extension": ".py",
   "mimetype": "text/x-python",
   "name": "python",
   "nbconvert_exporter": "python",
   "pygments_lexer": "ipython3",
   "version": "3.8.18"
  }
 },
 "nbformat": 4,
 "nbformat_minor": 2
}
